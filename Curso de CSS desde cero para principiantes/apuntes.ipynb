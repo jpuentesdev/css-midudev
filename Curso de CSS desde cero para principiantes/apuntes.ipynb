{
 "cells": [
  {
   "cell_type": "markdown",
   "metadata": {},
   "source": [
    "# ¿QUÉ ES CSS?\n",
    "\n",
    "* CSS, que significa \"Cascading Style Sheets\" en inglés, se traduce al español como \"Hojas de Estilo en Cascada\". Es un lenguaje de estilo utilizado para describir la presentación de un documento escrito en HTML o XML, incluyendo aspectos como el diseño, los colores y las fuentes.\n",
    "\n",
    "* El término \"cascada\" se refiere a la manera en que las reglas de estilo se aplican a los elementos de un documento. La cascada describe la prioridad y el orden en el que se aplican diferentes estilos a un elemento específico.\n",
    "\n",
    "* Este orden de cascada se puede resumir en cuatro niveles de importancia descendente:\n",
    "\n",
    "1. Estilos del Usuario: Son las preferencias del usuario, como ajustes de accesibilidad o cambios de estilo personalizados.\n",
    "\n",
    "2. Estilos de la Página: Son las reglas de estilo definidas en la hoja de estilo de la página web.\n",
    "\n",
    "3. Estilos del Desarrollador: Son las reglas de estilo proporcionadas por el desarrollador del sitio web.\n",
    "\n",
    "4. Estilos del Navegador: Son los estilos predeterminados del navegador."
   ]
  },
  {
   "cell_type": "markdown",
   "metadata": {},
   "source": [
    "# RECURSOS CSS RECOMENDADOS\n",
    "\n",
    "* https://lenguajecss.com/css/ \n",
    "* https://web.dev/learn/css?hl=es \n",
    "* https://developer.mozilla.org/es/docs/Web/CSS\n",
    "* https://codi.link/%7C%7C\n",
    "\n",
    "# NO RECOMENDADO\n",
    "\n",
    "* https://www.w3schools.com/ "
   ]
  },
  {
   "cell_type": "markdown",
   "metadata": {},
   "source": [
    "# PARTES DE CSS\n",
    "\n",
    "* Selector: es la parte del código que apunta a los elementos HTML a los que se les aplicará un estilo.\n",
    "\n",
    "* Propiedad: es la característica específica que estás tratando de cambiar en los elementos seleccionados. Las propiedades representan aspectos como el color, tamaño, márgenes, etc.\n",
    "\n",
    "* Valor: es la asignación específica que le das a la propiedad. Es el nuevo estado o configuración que deseas aplicar a la propiedad."
   ]
  },
  {
   "cell_type": "code",
   "execution_count": null,
   "metadata": {
    "vscode": {
     "languageId": "css"
    }
   },
   "outputs": [],
   "source": [
    "selector {\n",
    "    propiedad: valor /* declaración */\n",
    "}"
   ]
  },
  {
   "cell_type": "markdown",
   "metadata": {},
   "source": [
    "# PROPIEDADES MÁS COMUNES\n",
    "\n",
    "1. Diseño y Posicionamiento:\n",
    "\n",
    "* display: Define cómo se va a mostrar un elemento (por ejemplo, block, inline, flex).\n",
    "* position: Establece el método de posicionamiento del elemento.\n",
    "* float: Define si un elemento debe flotar a la izquierda o a la derecha.\n",
    "\n",
    "2. Dimensiones:\n",
    "\n",
    "* width y height: Especifican el ancho y la altura de un elemento.\n",
    "* max-width y max-height: Establecen límites máximos para el ancho y la altura.\n",
    "* min-width y min-height: Establecen límites mínimos para el ancho y la altura.\n",
    "\n",
    "3. Márgenes y Rellenos:\n",
    "\n",
    "* margin: Define los márgenes del elemento.\n",
    "* padding: Define el relleno interno del elemento.\n",
    "\n",
    "4. Bordes:\n",
    "\n",
    "* border: Combina las propiedades de border-width, border-style y border-color para establecer el borde de un elemento.\n",
    "\n",
    "5. Color y Fondo:\n",
    "\n",
    "* color: Establece el color del texto.\n",
    "* background-color: Define el color de fondo de un elemento.\n",
    "\n",
    "6. Texto:\n",
    "\n",
    "* font-family: Especifica la fuente del texto.\n",
    "* font-size: Establece el tamaño de la fuente.\n",
    "* font-weight: Define el grosor de la fuente (por ejemplo, bold).\n",
    "* line-height: Controla la altura de línea dentro de un elemento de texto.\n",
    "* text-align: Alinea el texto (por ejemplo, left, center, right).\n",
    "\n",
    "7. Visualización:\n",
    "\n",
    "* visibility: Controla si un elemento es visible o no.\n",
    "\n",
    "8. Flexbox y Grid (Diseño en Caja):\n",
    "\n",
    "* flex: Define la capacidad de un elemento flexible dentro de un contenedor flexible.\n",
    "* grid: Define el diseño de cuadrícula.\n",
    "\n",
    "9. Animaciones y Transiciones:\n",
    "\n",
    "* animation: Proporciona un conjunto de propiedades para controlar las animaciones.\n",
    "* transition: Define las transiciones entre los estados de un elemento.\n",
    "\n",
    "10. Otros:\n",
    "\n",
    "* opacity: Establece la opacidad de un elemento.\n",
    "* cursor: Especifica el tipo de cursor cuando pasa sobre un elemento.\n",
    "* box-shadow: Agrega una sombra a un elemento."
   ]
  },
  {
   "cell_type": "markdown",
   "metadata": {},
   "source": [
    "# CLASES E IDS COMO SELECTORES\n",
    "\n",
    "* Las clases: son atributos que puedes agregar a elementos HTML para identificarlos y aplicar estilos de manera conjunta. Puedes asignar la misma clase a varios elementos y también aplicar múltiples clases a un solo elemento.\n",
    "\n",
    "* Los IDs: son atributos que también se pueden agregar a elementos HTML, pero a diferencia de las clases, un ID debe ser único en toda la página. No debes asignar el mismo ID a múltiples elementos."
   ]
  },
  {
   "cell_type": "code",
   "execution_count": null,
   "metadata": {
    "vscode": {
     "languageId": "css"
    }
   },
   "outputs": [],
   "source": [
    "/* EJEMPLO DE CLASE */\n",
    ".destacado {\n",
    "    font-weight: bold;\n",
    "    color: #ff0000; /* Rojo */\n",
    "  }\n",
    "\n",
    "/* EJEMPLO DE ID */\n",
    "#contenedor {\n",
    "    border: 1px solid #000; /* Borde negro */\n",
    "    padding: 10px;\n",
    "  }\n",
    "  "
   ]
  },
  {
   "cell_type": "markdown",
   "metadata": {},
   "source": [
    "* El objetivo que vamos a tener cuando diseñemos nuestras páginas web es reutilizar el diseño lo máximo posible.\n",
    "\n",
    "* Por ello intentaremos usar muchas clases y pocos id o elementos html como selectores."
   ]
  },
  {
   "cell_type": "markdown",
   "metadata": {},
   "source": [
    "# SELECTORES COMBINADOS"
   ]
  },
  {
   "cell_type": "code",
   "execution_count": null,
   "metadata": {
    "vscode": {
     "languageId": "html"
    }
   },
   "outputs": [],
   "source": [
    "<p class=\"description\">\n",
    "    Joven emponzoñado de <strong class=\"bold\">whisky</strong> , menuda figurota!\n",
    "</p>\n",
    "\n",
    "<p class=\"secondary\">\n",
    "    Joven emponzoñado de <strong class=\"bold\">whisky</strong> , menuda figurota!\n",
    "</p>"
   ]
  },
  {
   "cell_type": "code",
   "execution_count": null,
   "metadata": {
    "vscode": {
     "languageId": "css"
    }
   },
   "outputs": [],
   "source": [
    "p {\n",
    "    font-size: 48px;\n",
    "}\n",
    "\n",
    ".description .bold {\n",
    "    color: #09f;\n",
    "}\n",
    "\n",
    ".secondary .bold {\n",
    "    color: red;\n",
    "}"
   ]
  },
  {
   "cell_type": "code",
   "execution_count": null,
   "metadata": {
    "vscode": {
     "languageId": "html"
    }
   },
   "outputs": [],
   "source": [
    "<ul>\n",
    "    <li>Item 1</li>\n",
    "    <li>Item 2</li>\n",
    "    <li>\n",
    "        <ul>\n",
    "            <li>Subitem 1</li>\n",
    "            <li>Subitem 2</li>\n",
    "            <li>Subitem 3</li>\n",
    "        </ul>\n",
    "    </li>\n",
    "</ul>"
   ]
  },
  {
   "cell_type": "code",
   "execution_count": null,
   "metadata": {
    "vscode": {
     "languageId": "css"
    }
   },
   "outputs": [],
   "source": [
    "/* En el siguiente ejemplo se le aplicaría la modificación de opacidad dos veces a los \"subitem\" debido a ser un li dentro de un ul dos veces*/\n",
    "ul li {\n",
    "    opacity: 70%;\n",
    "}"
   ]
  },
  {
   "cell_type": "markdown",
   "metadata": {},
   "source": [
    "# COMBINADORES"
   ]
  },
  {
   "cell_type": "code",
   "execution_count": null,
   "metadata": {
    "vscode": {
     "languageId": "css"
    }
   },
   "outputs": [],
   "source": [
    "/* Combinador de hijo: */\n",
    "\n",
    "/* El combinador > selecciona los elementos que son hijos directos del primer elemento.*/\n",
    "\n",
    "article > p {\n",
    "    color: blue\n",
    "}"
   ]
  },
  {
   "cell_type": "code",
   "execution_count": null,
   "metadata": {
    "vscode": {
     "languageId": "css"
    }
   },
   "outputs": [],
   "source": [
    "/* Combinador general de hermanos */\n",
    "\n",
    "/*El combinador ~ selecciona hermanos (del mismo nivel). Elementos que están justo después o después del primero */\n",
    "\n",
    "article ~ p {\n",
    "    color: blue;\n",
    "}"
   ]
  },
  {
   "cell_type": "code",
   "execution_count": null,
   "metadata": {
    "vscode": {
     "languageId": "css"
    }
   },
   "outputs": [],
   "source": [
    "/* Combinador de descendientes */\n",
    "\n",
    "/* El combinador (espacio) selecciona los elementos que son descendientes del primer elemento. */\n",
    "article p {\n",
    "    color: blue;\n",
    "}"
   ]
  },
  {
   "cell_type": "markdown",
   "metadata": {},
   "source": [
    "# COLORES EN CSS"
   ]
  },
  {
   "cell_type": "code",
   "execution_count": null,
   "metadata": {
    "vscode": {
     "languageId": "css"
    }
   },
   "outputs": [],
   "source": [
    "/* Utilizar el que mejor entiendas y mejor se adapte a tus necesidades*/\n",
    "\n",
    "h1 {\n",
    "    color: rgb(red, green, blue);\n",
    "    color: rgb(0, 0, 0 / 50%); /* El último parámetro es para la opacidad */\n",
    "    color: #95f0f0; /* Colores en hexadecimal */\n",
    "    color: hsl(hue, saturation, lightness) /* matiz, saturación y luminosidad */\n",
    "    color: oklch(lightness chroma hue)\n",
    "\n",
    "\n",
    "    /* PALABRAS CLAVE*/\n",
    "    color: transparent\n",
    "\n",
    "    /* SHORTCUTS */\n",
    "    color: #09f /* --> #0099ff */\n",
    "    /* Cuando utilizamos hexadecimales si utilizamos 3 caracteres estaríamos haciendo un shortcut, lo común es un hexadecimal de 6 caracteres. \n",
    "    Si utilizamos uno de 8 caracteres, los dos últimos se utilizan para la transpariencia (siendo \"00\" transparente y \"ff\" opacidad al 100% */\n",
    "}"
   ]
  },
  {
   "cell_type": "markdown",
   "metadata": {},
   "source": [
    "# FONT FAMILY"
   ]
  },
  {
   "cell_type": "code",
   "execution_count": null,
   "metadata": {
    "vscode": {
     "languageId": "css"
    }
   },
   "outputs": [],
   "source": [
    "/* Se pueden cargar la que ya vienen en el sistema operativo sin necesidad de utilizar recursos externos*/\n",
    "\n",
    "body {\n",
    "    /* Cargando las fuentes del sistema operativo*/\n",
    "    /* Se utilizan fallbaks para que de izquierda a derecha, si no se puede cargar una fuente se cargue la siguiente */\n",
    "    font-family: system-ui, -apple-system, BlinkMacSystemFont, 'Segoe UI', Roboto, Oxygen, Ubuntu, Cantarell, 'Open Sans', 'Helvetica Neue', sans-serif;\n",
    "}"
   ]
  },
  {
   "cell_type": "markdown",
   "metadata": {},
   "source": [
    "# HERENCIA\n",
    "\n",
    "* La herencia en CSS es un concepto que describe cómo los estilos se transmiten de un elemento padre a sus elementos secundarios. En otras palabras, si aplicas un estilo a un elemento, esos estilos pueden ser heredados por sus descendientes. Esto simplifica el proceso de aplicación de estilos, ya que no es necesario especificar manualmente cada estilo para cada elemento.\n",
    "\n",
    "* Algunos estilos se heredan automáticamente. Por ejemplo, la propiedad color, que establece el color del texto, se hereda por defecto. Si aplicas un color al cuerpo (body), es probable que los elementos hijos hereden ese color, a menos que se especifique lo contrario."
   ]
  },
  {
   "cell_type": "code",
   "execution_count": null,
   "metadata": {
    "vscode": {
     "languageId": "html"
    }
   },
   "outputs": [],
   "source": [
    "<div class=\"container\">\n",
    "    Este es el container\n",
    "    <div class=\"child\">\n",
    "        Hola mundo\n",
    "    </div>\n",
    "</div>"
   ]
  },
  {
   "cell_type": "code",
   "execution_count": null,
   "metadata": {
    "vscode": {
     "languageId": "css"
    }
   },
   "outputs": [],
   "source": [
    ".container {\n",
    "    color: #09f;\n",
    "    font-size: 32px;\n",
    "    border: 3px solid #09f; /* Width, style y color con un atajo*/\n",
    "}\n",
    "\n",
    ".child {\n",
    "    border: inherit; /* La propiedad border no se hereda, pero utilizando el valor \"inherit\" forzamos a que herede el valor del padre */\n",
    "\n",
    "    color: initial; /* La propiedad color es heredable, pero al utilizar el valor initial forzamos a que tenga el valor por defecto definido por las especificaciones de CSS */\n",
    "}"
   ]
  },
  {
   "cell_type": "markdown",
   "metadata": {},
   "source": [
    "# PSEUDO-CLASES\n",
    "\n",
    "* Son selectores especiales que te permiten seleccionar y estilizar elementos en función de su estado o posición dentro del documento. Estas pseudoclases proporcionan un mayor control sobre la presentación de los elementos, permitiéndote aplicar estilos específicos en situaciones particulares.\n",
    "\n",
    "* En las herramientas de desarrollo de chrome se pueden simular estados (hover, visible, etc) seleccionando el elemento que queremos comprobar.\n",
    "\n",
    "### TIPOS\n",
    "\n",
    "1. Pseudoclases de enlace (:link, :visited):\n",
    "\n",
    "* :link: Selecciona enlaces que no han sido visitados.\n",
    "\n",
    "* :visited: Selecciona enlaces que ya han sido visitados.\n",
    "\n",
    "2. Pseudoclases de interacción (:hover, :active, :focus):\n",
    "\n",
    "* :hover: Selecciona un elemento cuando el usuario pasa el mouse sobre él.\n",
    "\n",
    "* :active: Selecciona un elemento cuando está siendo activado (por ejemplo, cuando se hace clic en un botón).\n",
    "\n",
    "* :focus: Selecciona un elemento cuando está enfocado, como cuando se selecciona un campo de entrada.\n",
    "\n",
    "3. Pseudoclases de estructura (:first-child, :last-child, :nth-child()):\n",
    "\n",
    "* :first-child: Selecciona el primer hijo de un elemento.\n",
    "* :last-child: Selecciona el último hijo de un elemento.\n",
    "* :nth-child(n): Selecciona el elemento que es el enésimo hijo del elemento padre.\n",
    "\n",
    "4. Pseudoclases de formulario (:checked, :disabled):\n",
    "\n",
    "* :checked: Selecciona elementos de formulario (como casillas de verificación o botones de opción) que están marcados.\n",
    "\n",
    "* :disabled: Selecciona elementos de formulario que están deshabilitados.\n",
    "\n",
    "5. Pseudoclase :nth-of-type() y :nth-last-of-type():\n",
    "\n",
    "* :nth-of-type(n): Selecciona el enésimo elemento de su tipo entre sus hermanos.\n",
    "\n",
    "* :nth-last-of-type(n): Selecciona el enésimo elemento de su tipo, contado desde el final de la lista de hermanos."
   ]
  },
  {
   "cell_type": "code",
   "execution_count": null,
   "metadata": {
    "vscode": {
     "languageId": "css"
    }
   },
   "outputs": [],
   "source": [
    "/* EJEMPLO */\n",
    "\n",
    "/* Al tener el cursor encima */\n",
    ".link:hover {\n",
    "    outline: 5px solid red;\n",
    "}\n",
    "\n",
    "/* Al hacer click */\n",
    ".link:active {\n",
    "    outline: 5px solid blue;\n",
    "}\n",
    "\n",
    "/* se activa cuando el usuario hace clic, toca un elemento o lo selecciona con la tecla \"Tab\" del teclado */\n",
    "input:focus {\n",
    "    border: 1px solid yellow;\n",
    "}"
   ]
  },
  {
   "cell_type": "markdown",
   "metadata": {},
   "source": [
    "### BORDER VS OUTLINE\n",
    "\n",
    "Mientras que border es parte del modelo de caja y afecta el tamaño y la disposición del elemento, outline se utiliza más comúnmente para resaltar o enfocar elementos sin afectar su diseño o ocupar espacio adicional.\n"
   ]
  },
  {
   "cell_type": "markdown",
   "metadata": {},
   "source": [
    "# CASCADA\n",
    "\n",
    "* Es uno de los conceptos más importantes y más complicados a su vez de CSS.\n",
    "\n",
    "* El concepto de cascada permite que las reglas de estilo se apliquen de manera flexible y jerárquica, permitiendo una adaptabilidad eficiente en el diseño y presentación de una página web. La comprensión de cómo funciona la cascada es esencial para escribir hojas de estilo efectivas y mantener un código CSS bien organizado y fácil de mantener.\n",
    "\n",
    "1. Origen de la regla:\n",
    "\n",
    "Las reglas de estilo pueden provenir de diferentes fuentes, como hojas de estilo externas, hojas de estilo internas (dentro de la etiqueta style en el documento HTML) y estilos en línea directamente en los elementos HTML (a través del atributo style).\n",
    "\n",
    "2. Especificidad del selector:\n",
    "\n",
    "Las reglas se aplican según la especificidad del selector. Un selector más específico tendrá más peso que un selector menos específico. Por ejemplo, un selector con un ID (#miElemento) es más específico que un selector de clase (.miClase).\n",
    "\n",
    "* https://specificity.keegan.st/ calculadora de especifidad\n",
    "\n",
    "3. Orden de aparición:\n",
    "\n",
    "Si dos reglas tienen la misma especificidad, la regla que aparece más tarde en el código tendrá prioridad y se aplicará.\n",
    "\n",
    "4. Importancia:\n",
    "\n",
    "Algunas reglas pueden tener una mayor importancia que otras. Por ejemplo, las reglas marcadas con !important tienen más peso y se aplicarán incluso si hay reglas más específicas.\n",
    "\n",
    "* !important es una forma de saltarse la especifidad, a ser posible es mejor no depender de él.\n",
    "\n",
    "5. Herdabilidad:\n",
    "\n",
    "Algunos estilos se heredan de los elementos padre a los elementos hijos. Por ejemplo, el color del texto (color) generalmente se hereda, lo que significa que si no se establece un color en un elemento, tomará el color de su elemento padre."
   ]
  },
  {
   "cell_type": "markdown",
   "metadata": {},
   "source": [
    "# FALLBACKS\n",
    "\n",
    " Estrategias de respaldo o soluciones alternativas que se implementan para garantizar un comportamiento adecuado en caso de que una característica o propiedad específica no sea admitida por ciertos navegadores o dispositivos."
   ]
  },
  {
   "cell_type": "code",
   "execution_count": null,
   "metadata": {
    "vscode": {
     "languageId": "css"
    }
   },
   "outputs": [],
   "source": [
    "/* A continuación utilizamos un fallback por si el oklch no es soportado por algún navegador. Con la cascada siempre damos prioridad al valor especicifaco en último lugar, por lo que siempre se intentará primero el oklch*/\n",
    "p {\n",
    "    color: #09f;\n",
    "    color: oklch(70% 0.148 238.24);\n",
    "}"
   ]
  },
  {
   "cell_type": "markdown",
   "metadata": {},
   "source": [
    "# ESTILOS EN LÍNEA\n",
    "\n",
    "* Son utilizados como un atributo en el HTML\n",
    "\n",
    "* Tienen mayor especifidad que los IDs\n",
    "\n",
    "* Se recomiendo utilizar estilos en archivos para tenerlos de una manera más controlada, escalable y cacheable"
   ]
  },
  {
   "cell_type": "markdown",
   "metadata": {},
   "source": [
    "# UNIDADES RELATIVAS Y ABSOLUTAS\n",
    "\n",
    "* Las unidades se utilizan para especificar longitudes y tamaños.\n",
    "\n",
    "### Unidades Absolutas\n",
    "\n",
    "* px (píxeles):\n",
    "\n",
    "Es la unidad más común y representa un píxel en la pantalla. Es una unidad absoluta porque su tamaño es constante y no cambia en relación con otros elementos en la página.\n",
    "\n",
    "* cm, mm, in, pt, pc:\n",
    "\n",
    "Estas unidades representan medidas físicas del mundo real y son consideradas absolutas. Por ejemplo, cm para centímetros, in para pulgadas, pt para puntos de impresión, y pc para picas.\n",
    "\n",
    "### Unidades Relativas\n",
    "\n",
    "* em:\n",
    "\n",
    "Esta unidad es relativa al tamaño de la fuente del elemento padre. Por ejemplo, si el tamaño de fuente del elemento padre es 16px, 1em será igual a 16px. Si se aplica a un elemento hijo, será relativo al tamaño de fuente del elemento padre más cercano.\n",
    "\n",
    "font-size: 1.2em; /* Tamaño de fuente 1.2 veces el tamaño del elemento padre */\n",
    "\n",
    "* rem (root em):\n",
    "\n",
    "Similar a em, pero en lugar de ser relativo al tamaño de fuente del elemento padre más cercano, es relativo al tamaño de fuente del elemento raíz (html).\n",
    "\n",
    "body {\n",
    "  font-size: 16px; /* Tamaño de fuente del elemento raíz */\n",
    "}\n",
    "\n",
    "p {\n",
    "  font-size: 1.5rem; /* Tamaño de fuente 1.5 veces el tamaño de fuente del elemento raíz */\n",
    "}\n",
    "\n",
    "* % (porcentaje):\n",
    "\n",
    "Las unidades de porcentaje son relativas al tamaño del contenedor del elemento. Por ejemplo, width: 50% significa que el elemento ocupará el 50% del ancho de su contenedor.\n",
    "\n",
    "* vw y vh (viewport width y viewport height):\n",
    "\n",
    "Estas unidades son relativas al tamaño de la ventana gráfica del navegador. 1vw es el 1% del ancho de la ventana, y 1vh es el 1% de la altura de la ventana."
   ]
  },
  {
   "cell_type": "markdown",
   "metadata": {},
   "source": [
    "# CSS RESET Y NORMALIZE\n",
    "\n",
    "* El \"CSS reset\" y \"Normalize.css\" son enfoques diferentes para abordar y normalizar las diferencias en el estilo predeterminado de los navegadores web. Ambos tienen como objetivo proporcionar un punto de partida consistente y más predecible para el desarrollo web al igualar los estilos predeterminados de los navegadores. \n",
    "\n",
    "* Normalize.css se creó para abordar el problema de que css reset se cargara valores por defecto de los navegadores que podían ser positivos.\n",
    "\n",
    "* Aquí hay una breve descripción de cada uno:\n",
    "\n",
    "1. CSS Reset:\n",
    "\n",
    "Un \"CSS reset\" es un conjunto de reglas CSS diseñadas para establecer estilos consistentes y predecibles en todos los elementos HTML, eliminando los estilos predeterminados que los navegadores aplican. La idea es comenzar desde un punto neutro, evitando las diferencias inherentes entre cómo los navegadores interpretan y aplican estilos predeterminados a elementos HTML básicos.\n",
    "\n",
    "Ejemplo de un CSS reset básico:\n",
    "\n",
    "\n",
    "/* CSS Reset */\n",
    "símbolo de asterisco * {\n",
    "  margin: 0;\n",
    "  padding: 0;\n",
    "  box-sizing: border-box;\n",
    "}\n",
    "\n",
    "body {\n",
    "  font-family: Arial, sans-serif;\n",
    "  line-height: 1.6;\n",
    "}\n",
    "\n",
    "El asterisco * se utiliza para aplicar estas reglas a todos los elementos, estableciendo márgenes y rellenos en cero y utilizando box-sizing: border-box para ajustar el modelo de caja.\n",
    "\n",
    "2. Normalize.css:\n",
    "\n",
    "A diferencia de un \"CSS reset\", Normalize.css no elimina todos los estilos predeterminados; en cambio, normaliza y armoniza los estilos predeterminados para que sean más consistentes entre navegadores. Se esfuerza por preservar las útiles características predeterminadas de los navegadores, mientras corrige y normaliza aquellas que pueden variar entre navegadores.\n",
    "\n",
    "Normalize.css aborda problemas específicos que pueden surgir con ciertos elementos y estilos en diferentes navegadores. Esto incluye ajustar los márgenes, la alineación de texto, la apariencia de algunos elementos en línea y otros detalles para garantizar que los estilos básicos sean más uniformes.\n",
    "\n",
    "Puedes incluir Normalize.css en tu proyecto añadiendo su enlace CDN en la sección <head> de tu documento HTML o descargándolo e incluyéndolo localmente.\n",
    "\n",
    "Ejemplo de uso con CDN:\n",
    "\n"
   ]
  },
  {
   "cell_type": "code",
   "execution_count": null,
   "metadata": {
    "vscode": {
     "languageId": "html"
    }
   },
   "outputs": [],
   "source": [
    "<head>\n",
    "  <link rel=\"stylesheet\" href=\"https://cdnjs.cloudflare.com/ajax/libs/normalize/8.0.1/normalize.min.css\">\n",
    "</head>\n"
   ]
  },
  {
   "cell_type": "markdown",
   "metadata": {},
   "source": [
    "Ambos enfoques, CSS reset y Normalize.css, son opciones válidas dependiendo de tus necesidades y preferencias. Algunos desarrolladores prefieren un reinicio más agresivo para comenzar desde cero, mientras que otros prefieren una normalización más sutil para preservar ciertos estilos predeterminados. La elección entre ellos depende del proyecto y de la experiencia deseada."
   ]
  },
  {
   "cell_type": "markdown",
   "metadata": {},
   "source": [
    "# MODELO DE LA CAJA\n",
    "\n",
    "* En CSS, inline y block son dos de los valores principales para la propiedad display, y se utilizan para controlar cómo se muestra y se coloca un elemento en relación con otros elementos en la página\n",
    "\n",
    "## ELEMENTOS EN LÍNEA (display: inline;):\n",
    "\n",
    "Los elementos en línea no comienzan en una nueva línea y solo ocupan el ancho necesario para sus contenidos. No crean un nuevo bloque de formato y permiten que otros elementos se sitúen junto a ellos horizontalmente.\n",
    "\n",
    "Algunos ejemplos comunes de elementos en línea son span, a, strong, em, img, entre otros.\n",
    "\n",
    "### Propiedades relacionadas con el modelo de caja con display: inline\n",
    "\n",
    "* inline: Afecta solo al contenido del elemento y no acepta propiedades relacionadas con el modelo de caja como width, height, margin-top, margin-bottom, etc.\n",
    "\n",
    "* Ancho y Alto: \n",
    "\n",
    "Los elementos en línea no aceptan valores de ancho (width) ni de alto (height) directamente. El ancho y alto de un elemento en línea está determinado por el contenido que contiene y no puede ser configurado de manera directa.\n",
    "\n",
    "* Márgenes y Rellenos:\n",
    "\n",
    "Aunque las propiedades de ancho y alto pueden no tener el efecto deseado en elementos en línea, puedes ajustar el espaciado alrededor del contenido utilizando márgenes y rellenos.\n",
    "\n",
    "---\n",
    "\n",
    "## ELEMENTOS EN BLOQUE (display: block;):\n",
    "\n",
    "Los elementos en bloque siempre comienzan en una nueva línea y ocupan todo el ancho disponible de su contenedor, extendiéndose horizontalmente tanto como sea posible.\n",
    "Desplazan a los elementos adyacentes hacia una nueva línea antes y después de ellos.\n",
    "\n",
    "Algunos ejemplos comunes de elementos en bloque son div, p, h1, ul, li, entre otros.\n",
    "\n",
    "### Propiedades relacionadas con el modelo de caja con display: inline\n",
    "\n",
    "* ¿Cómo se calcula el ancho y el alto de una caja?"
   ]
  },
  {
   "cell_type": "markdown",
   "metadata": {},
   "source": [
    "### BOX-SIZING\n",
    "\n",
    "* La propiedad box-sizing en CSS determina cómo se calcula el ancho y el alto de una caja. Hay dos valores principales para box-sizing: content-box y border-box.\n",
    "\n",
    "1. content-box (valor por defecto)\n",
    "\n",
    "* El ancho y el alto de la caja se calculan incluyendo solo el contenido, excluyendo el \n",
    "relleno (padding) y el borde (border).\n",
    "\n",
    "* Cualquier relleno o borde añadido aumentará el tamaño total de la caja."
   ]
  },
  {
   "cell_type": "code",
   "execution_count": null,
   "metadata": {
    "vscode": {
     "languageId": "css"
    }
   },
   "outputs": [],
   "source": [
    "/* Ejemplo con box-sizing: content-box; */\n",
    ".element {\n",
    "    box-sizing: content-box;\n",
    "    width: 200px; /* Ancho del contenido */\n",
    "    height: 200px; /* Altura del contenido */\n",
    "    padding: 20px; /* Añade al tamaño total */\n",
    "    border: 2px solid black; /* Añade al tamaño total */\n",
    "  }\n",
    "\n",
    "/* Altura y anchura total 200 + 40 + 4 = 244*/\n",
    "  "
   ]
  },
  {
   "cell_type": "markdown",
   "metadata": {},
   "source": [
    "2. border-box\n",
    "\n",
    "* El ancho y el alto de la caja se calculan incluyendo el contenido, el relleno (padding) y el borde (border). En otras palabras, el tamaño total de la caja incluye todo."
   ]
  },
  {
   "cell_type": "code",
   "execution_count": null,
   "metadata": {
    "vscode": {
     "languageId": "css"
    }
   },
   "outputs": [],
   "source": [
    "/* Ejemplo con box-sizing: border-box; */\n",
    ".element {\n",
    "    box-sizing: border-box;\n",
    "    width: 200px; /* Incluye contenido, relleno y borde en el tamaño total */\n",
    "    height: 200px; /* Incluye contenido, relleno y borde en el tamaño total */\n",
    "    padding: 20px; /* Añade al tamaño total */\n",
    "    border: 2px solid black; /* Añade al tamaño total */\n",
    "  }\n",
    "  "
   ]
  },
  {
   "cell_type": "markdown",
   "metadata": {},
   "source": [
    "# DIFERENCIAS ENTRE padding, margin y border\n",
    "\n",
    "1. padding (relleno)\n",
    "\n",
    "* La propiedad padding establece el espacio entre el contenido de un elemento y su borde interno (dentro del borde).\n",
    "\n",
    "* Uso: Se utiliza para proporcionar espacio interno y separar el contenido del borde.\n",
    "\n",
    "\n",
    "2. margin \n",
    "\n",
    "* La propiedad margin establece el espacio entre los bordes externos de un elemento y sus elementos adyacentes.\n",
    "\n",
    "* Uso: Se utiliza para proporcionar espacio externo y separar los elementos entre sí.\n",
    "\n",
    "3. border\n",
    "\n",
    "* La propiedad border establece el borde alrededor de un elemento. Incluye tres subpropiedades: border-width, border-style y border-color.\n",
    "\n",
    "* Uso: Se utiliza para crear bordes visibles alrededor del elemento.\n"
   ]
  },
  {
   "cell_type": "markdown",
   "metadata": {},
   "source": [
    "## SHORTCUTS PARA PADDING Y MARGIN"
   ]
  },
  {
   "cell_type": "code",
   "execution_count": null,
   "metadata": {
    "vscode": {
     "languageId": "css"
    }
   },
   "outputs": [],
   "source": [
    "div {\n",
    "    margin: 10px; /* Establece un margen de 10 píxeles en todos los lados */\n",
    "  }\n",
    "\n",
    "div {\n",
    "    margin: 10px 20px; /* Establece 10 píxeles arriba/abajo y 20 píxeles derecha/izquierda */\n",
    "  }\n",
    "  \n",
    "div {\n",
    "    margin-top: 10px;\n",
    "    margin-right: 20px;\n",
    "    margin-bottom: 15px;\n",
    "    margin-left: 30px;\n",
    "  }\n",
    "  "
   ]
  }
 ],
 "metadata": {
  "language_info": {
   "name": "python"
  }
 },
 "nbformat": 4,
 "nbformat_minor": 2
}
